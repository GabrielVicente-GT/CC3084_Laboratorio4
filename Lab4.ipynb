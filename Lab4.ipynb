{
 "cells": [
  {
   "cell_type": "markdown",
   "metadata": {},
   "source": [
    "# Laboratorio 4\n",
    "### Laboratorio: Mejorando el Análisis de Sentimientos con LSTM y Características Adicionales\n",
    "* Objetivo: Incrementar la precisión en el análisis de sentimientos sobre las críticas de películas\n",
    "utilizando RNNs con unidades LSTM y la incorporación de características (features) adicionales.\n",
    "\n",
    "# Integrantes\n",
    "\n",
    "* Andrea Lam\n",
    "* Gabriel Vicente"
   ]
  },
  {
   "cell_type": "markdown",
   "metadata": {},
   "source": [
    "# 1. Importación y Pre-procesamiento (30 puntos)\n",
    "• Correcta importación del conjunto de datos con 50,000 palabras más frecuentes:\n",
    "10 puntos. <br/>\n",
    "• Secuenciación y relleno de las críticas: 10 puntos.<br/>\n",
    "• Extracción y adecuada justificación de características adicionales: 10 puntos.<br/>"
   ]
  },
  {
   "cell_type": "code",
   "execution_count": 1,
   "metadata": {},
   "outputs": [],
   "source": [
    "\"\"\" Tensor flow \"\"\"\n",
    "\n",
    "import tensorflow as tf\n",
    "from tensorflow.keras.preprocessing import sequence\n",
    "from tensorflow.keras.models import Sequential\n",
    "from tensorflow.keras.layers import Dense, Embedding\n",
    "from tensorflow.keras.layers import LSTM\n",
    "from tensorflow.keras.datasets import imdb"
   ]
  },
  {
   "cell_type": "code",
   "execution_count": 2,
   "metadata": {},
   "outputs": [
    {
     "name": "stdout",
     "output_type": "stream",
     "text": [
      "Cargando los datos...\n"
     ]
    }
   ],
   "source": [
    "print('Cargando los datos...')\n",
    "(X_train, y_train), (X_test, y_test) = imdb.load_data(num_words=50000)"
   ]
  },
  {
   "cell_type": "code",
   "execution_count": 3,
   "metadata": {},
   "outputs": [],
   "source": [
    "X_train = sequence.pad_sequences(X_train, maxlen = 80)\n",
    "X_test = sequence.pad_sequences(X_test, maxlen = 80)"
   ]
  },
  {
   "cell_type": "markdown",
   "metadata": {},
   "source": [
    "# 2. Arquitectura del Modelo (30 puntos)\n",
    "• Adecuado diseño de la arquitectura LSTM: 10 puntos.<br/>\n",
    "• Incorporación efectiva de características adicionales en el modelo: 10 puntos.<br/>\n",
    "• Uso de técnicas adicionales (e.g., Dropout, capas densamente conectadas): 10\n",
    "puntos."
   ]
  },
  {
   "cell_type": "code",
   "execution_count": 4,
   "metadata": {},
   "outputs": [],
   "source": [
    "modelo = Sequential()\n",
    "modelo.add(Embedding(50000, 128))\n",
    "modelo.add(LSTM(128, dropout=0.2, recurrent_dropout=0.2))\n",
    "modelo.add(Dense(1, activation='sigmoid'))\n",
    "modelo.compile(loss='binary_crossentropy',optimizer='adam',metrics=['accuracy'])"
   ]
  },
  {
   "cell_type": "markdown",
   "metadata": {},
   "source": [
    "# 3. Entrenamiento y Evaluación (20 puntos)\n",
    "• Correcto entrenamiento del modelo sin errores: 10 puntos. <br/>\n",
    "• Evaluación y comparación adecuada con el modelo del ejercicio anterior: 10\n",
    "puntos."
   ]
  },
  {
   "cell_type": "code",
   "execution_count": 5,
   "metadata": {},
   "outputs": [
    {
     "name": "stdout",
     "output_type": "stream",
     "text": [
      "Epoch 1/2\n",
      "782/782 - 127s - loss: 0.4291 - accuracy: 0.7981 - val_loss: 0.3959 - val_accuracy: 0.8320 - 127s/epoch - 163ms/step\n",
      "Epoch 2/2\n",
      "782/782 - 129s - loss: 0.2342 - accuracy: 0.9083 - val_loss: 0.4010 - val_accuracy: 0.8300 - 129s/epoch - 165ms/step\n"
     ]
    },
    {
     "data": {
      "text/plain": [
       "<keras.src.callbacks.History at 0x18c9f4adf60>"
      ]
     },
     "execution_count": 5,
     "metadata": {},
     "output_type": "execute_result"
    }
   ],
   "source": [
    "modelo.fit(X_train, y_train,batch_size = 32,epochs = 15,verbose = 2,validation_data = (X_test, y_test))"
   ]
  },
  {
   "cell_type": "code",
   "execution_count": 10,
   "metadata": {},
   "outputs": [
    {
     "name": "stdout",
     "output_type": "stream",
     "text": [
      "782/782 - 9s - loss: 0.4010 - accuracy: 0.8300 - 9s/epoch - 11ms/step\n",
      "╒═══════════════╤═════════════╕\n",
      "│ Métrica       │ Resultado   │\n",
      "╞═══════════════╪═════════════╡\n",
      "│ Loss          │ 0.4010      │\n",
      "├───────────────┼─────────────┤\n",
      "│ Test Accuracy │ 83.00%      │\n",
      "╘═══════════════╧═════════════╛\n"
     ]
    }
   ],
   "source": [
    "from tabulate import tabulate\n",
    "\n",
    "loss, accuracy = modelo.evaluate(X_test, y_test, batch_size=32, verbose=2)\n",
    "\n",
    "# Definir los títulos y resultados\n",
    "headers = [\"Métrica\", \"Resultado\"]\n",
    "data = [[\"Loss\", f\"{loss:.4f}\"],\n",
    "        [\"Test Accuracy\", f\"{accuracy * 100:.2f}%\"]]\n",
    "\n",
    "# Imprimir la tabla utilizando tabulate\n",
    "table = tabulate(data, headers, tablefmt=\"fancy_grid\")\n",
    "print(table)\n"
   ]
  },
  {
   "cell_type": "code",
   "execution_count": null,
   "metadata": {},
   "outputs": [],
   "source": [
    "modelo.save(\"Lab4.h5\")"
   ]
  }
 ],
 "metadata": {
  "kernelspec": {
   "display_name": "Python 3",
   "language": "python",
   "name": "python3"
  },
  "language_info": {
   "codemirror_mode": {
    "name": "ipython",
    "version": 3
   },
   "file_extension": ".py",
   "mimetype": "text/x-python",
   "name": "python",
   "nbconvert_exporter": "python",
   "pygments_lexer": "ipython3",
   "version": "3.10.11"
  },
  "orig_nbformat": 4
 },
 "nbformat": 4,
 "nbformat_minor": 2
}
